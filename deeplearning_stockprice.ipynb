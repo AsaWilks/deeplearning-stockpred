{
  "nbformat": 4,
  "nbformat_minor": 0,
  "metadata": {
    "colab": {
      "provenance": [],
      "gpuType": "T4"
    },
    "kernelspec": {
      "name": "python3",
      "display_name": "Python 3"
    },
    "language_info": {
      "name": "python"
    },
    "accelerator": "GPU"
  },
  "cells": [
    {
      "cell_type": "markdown",
      "source": [
        "**Asa Wilks, 8/2/2023**\n",
        "\n",
        "**Deep Learning Stock Price Predictor: FY23 Getting Smart(er) About AI Capstone**\n"
      ],
      "metadata": {
        "id": "twwbeRXRyT7e"
      }
    },
    {
      "cell_type": "markdown",
      "source": [
        "This project ingests current asset price data from the Yahoo Finance API and predicts stock closing price based on past price movement. The deep learning model is a recurrent nueral network with long short-term memory (LSTM) layers. If you are using Goolge Colab don't forget to turn on the free GPU in the notebook, it will run much much faster."
      ],
      "metadata": {
        "id": "CBJy7kkkzNje"
      }
    },
    {
      "cell_type": "code",
      "execution_count": null,
      "metadata": {
        "id": "6N0G4akWRdWZ"
      },
      "outputs": [],
      "source": [
        "##\n",
        "# imports\n",
        "##\n",
        "\n",
        "import tensorflow as tf\n",
        "import keras\n",
        "from keras.models import Sequential\n",
        "from keras.layers import Dense, LSTM, Dropout\n",
        "from sklearn.preprocessing import MinMaxScaler\n",
        "\n",
        "import math\n",
        "import numpy as np\n",
        "import pandas as pd\n",
        "import yfinance as yf\n",
        "\n",
        "import matplotlib.pyplot as plt\n",
        "plt.style.use('seaborn-v0_8-pastel')"
      ]
    },
    {
      "cell_type": "markdown",
      "source": [
        "I use the Vanguard Total Stock Market Index Fund ETF, but any ticker symbol can be subbed in for 'VTI' in the code below in order to train a model for a different asset. The API loads daily data for the window specified. Currently this tool only uses past fluctuation in close price to predict future close, but a next step would be to add other stock data such as volume and price-earnings ratio, as well as macroeconomic variables like CPI and unemployment."
      ],
      "metadata": {
        "id": "yeUZAHdJ0gj-"
      }
    },
    {
      "cell_type": "code",
      "source": [
        "##\n",
        "# Read the data for Vanguard Total Stock Market Index Fund ETF\n",
        "# Keep just the close prices for now\n",
        "##\n",
        "\n",
        "symbol = yf.Ticker(\"VTI\").history(period=\"5y\")\n",
        "\n",
        "# save the price values to a numpy array\n",
        "close_symbol = symbol.filter(['Close'])\n",
        "close_symbol_arr = close_symbol.values\n",
        "\n",
        "symbol"
      ],
      "metadata": {
        "colab": {
          "base_uri": "https://localhost:8080/",
          "height": 455
        },
        "id": "WjYIeyCfS6Vj",
        "outputId": "e8514ef8-9a44-4d17-f619-0228ac5951b3"
      },
      "execution_count": null,
      "outputs": [
        {
          "output_type": "execute_result",
          "data": {
            "text/plain": [
              "                                 Open        High         Low       Close  \\\n",
              "Date                                                                        \n",
              "2018-08-03 00:00:00-04:00  134.077810  134.445418  133.958332  134.427048   \n",
              "2018-08-06 00:00:00-04:00  134.463819  135.153094  134.261630  135.033615   \n",
              "2018-08-07 00:00:00-04:00  134.463834  135.667766  134.463834  135.474777   \n",
              "2018-08-08 00:00:00-04:00  135.401224  135.585028  135.079557  135.346085   \n",
              "2018-08-09 00:00:00-04:00  135.437985  135.722883  135.162286  135.254181   \n",
              "...                               ...         ...         ...         ...   \n",
              "2023-07-27 00:00:00-04:00  228.809998  228.970001  224.830002  225.309998   \n",
              "2023-07-28 00:00:00-04:00  227.169998  228.029999  226.770004  227.660004   \n",
              "2023-07-31 00:00:00-04:00  228.119995  228.559998  227.559998  228.350006   \n",
              "2023-08-01 00:00:00-04:00  227.649994  228.000000  227.070007  227.729996   \n",
              "2023-08-02 00:00:00-04:00  225.990005  226.139999  224.070007  224.500000   \n",
              "\n",
              "                            Volume  Dividends  Stock Splits  Capital Gains  \n",
              "Date                                                                        \n",
              "2018-08-03 00:00:00-04:00  1977100        0.0           0.0            0.0  \n",
              "2018-08-06 00:00:00-04:00  1802000        0.0           0.0            0.0  \n",
              "2018-08-07 00:00:00-04:00  2532500        0.0           0.0            0.0  \n",
              "2018-08-08 00:00:00-04:00  1270600        0.0           0.0            0.0  \n",
              "2018-08-09 00:00:00-04:00  1233800        0.0           0.0            0.0  \n",
              "...                            ...        ...           ...            ...  \n",
              "2023-07-27 00:00:00-04:00  4730600        0.0           0.0            0.0  \n",
              "2023-07-28 00:00:00-04:00  2257600        0.0           0.0            0.0  \n",
              "2023-07-31 00:00:00-04:00  2658500        0.0           0.0            0.0  \n",
              "2023-08-01 00:00:00-04:00  2809500        0.0           0.0            0.0  \n",
              "2023-08-02 00:00:00-04:00  4222640        0.0           0.0            0.0  \n",
              "\n",
              "[1257 rows x 8 columns]"
            ],
            "text/html": [
              "\n",
              "\n",
              "  <div id=\"df-7714712a-5510-4fc9-bf9b-42e763426327\">\n",
              "    <div class=\"colab-df-container\">\n",
              "      <div>\n",
              "<style scoped>\n",
              "    .dataframe tbody tr th:only-of-type {\n",
              "        vertical-align: middle;\n",
              "    }\n",
              "\n",
              "    .dataframe tbody tr th {\n",
              "        vertical-align: top;\n",
              "    }\n",
              "\n",
              "    .dataframe thead th {\n",
              "        text-align: right;\n",
              "    }\n",
              "</style>\n",
              "<table border=\"1\" class=\"dataframe\">\n",
              "  <thead>\n",
              "    <tr style=\"text-align: right;\">\n",
              "      <th></th>\n",
              "      <th>Open</th>\n",
              "      <th>High</th>\n",
              "      <th>Low</th>\n",
              "      <th>Close</th>\n",
              "      <th>Volume</th>\n",
              "      <th>Dividends</th>\n",
              "      <th>Stock Splits</th>\n",
              "      <th>Capital Gains</th>\n",
              "    </tr>\n",
              "    <tr>\n",
              "      <th>Date</th>\n",
              "      <th></th>\n",
              "      <th></th>\n",
              "      <th></th>\n",
              "      <th></th>\n",
              "      <th></th>\n",
              "      <th></th>\n",
              "      <th></th>\n",
              "      <th></th>\n",
              "    </tr>\n",
              "  </thead>\n",
              "  <tbody>\n",
              "    <tr>\n",
              "      <th>2018-08-03 00:00:00-04:00</th>\n",
              "      <td>134.077810</td>\n",
              "      <td>134.445418</td>\n",
              "      <td>133.958332</td>\n",
              "      <td>134.427048</td>\n",
              "      <td>1977100</td>\n",
              "      <td>0.0</td>\n",
              "      <td>0.0</td>\n",
              "      <td>0.0</td>\n",
              "    </tr>\n",
              "    <tr>\n",
              "      <th>2018-08-06 00:00:00-04:00</th>\n",
              "      <td>134.463819</td>\n",
              "      <td>135.153094</td>\n",
              "      <td>134.261630</td>\n",
              "      <td>135.033615</td>\n",
              "      <td>1802000</td>\n",
              "      <td>0.0</td>\n",
              "      <td>0.0</td>\n",
              "      <td>0.0</td>\n",
              "    </tr>\n",
              "    <tr>\n",
              "      <th>2018-08-07 00:00:00-04:00</th>\n",
              "      <td>134.463834</td>\n",
              "      <td>135.667766</td>\n",
              "      <td>134.463834</td>\n",
              "      <td>135.474777</td>\n",
              "      <td>2532500</td>\n",
              "      <td>0.0</td>\n",
              "      <td>0.0</td>\n",
              "      <td>0.0</td>\n",
              "    </tr>\n",
              "    <tr>\n",
              "      <th>2018-08-08 00:00:00-04:00</th>\n",
              "      <td>135.401224</td>\n",
              "      <td>135.585028</td>\n",
              "      <td>135.079557</td>\n",
              "      <td>135.346085</td>\n",
              "      <td>1270600</td>\n",
              "      <td>0.0</td>\n",
              "      <td>0.0</td>\n",
              "      <td>0.0</td>\n",
              "    </tr>\n",
              "    <tr>\n",
              "      <th>2018-08-09 00:00:00-04:00</th>\n",
              "      <td>135.437985</td>\n",
              "      <td>135.722883</td>\n",
              "      <td>135.162286</td>\n",
              "      <td>135.254181</td>\n",
              "      <td>1233800</td>\n",
              "      <td>0.0</td>\n",
              "      <td>0.0</td>\n",
              "      <td>0.0</td>\n",
              "    </tr>\n",
              "    <tr>\n",
              "      <th>...</th>\n",
              "      <td>...</td>\n",
              "      <td>...</td>\n",
              "      <td>...</td>\n",
              "      <td>...</td>\n",
              "      <td>...</td>\n",
              "      <td>...</td>\n",
              "      <td>...</td>\n",
              "      <td>...</td>\n",
              "    </tr>\n",
              "    <tr>\n",
              "      <th>2023-07-27 00:00:00-04:00</th>\n",
              "      <td>228.809998</td>\n",
              "      <td>228.970001</td>\n",
              "      <td>224.830002</td>\n",
              "      <td>225.309998</td>\n",
              "      <td>4730600</td>\n",
              "      <td>0.0</td>\n",
              "      <td>0.0</td>\n",
              "      <td>0.0</td>\n",
              "    </tr>\n",
              "    <tr>\n",
              "      <th>2023-07-28 00:00:00-04:00</th>\n",
              "      <td>227.169998</td>\n",
              "      <td>228.029999</td>\n",
              "      <td>226.770004</td>\n",
              "      <td>227.660004</td>\n",
              "      <td>2257600</td>\n",
              "      <td>0.0</td>\n",
              "      <td>0.0</td>\n",
              "      <td>0.0</td>\n",
              "    </tr>\n",
              "    <tr>\n",
              "      <th>2023-07-31 00:00:00-04:00</th>\n",
              "      <td>228.119995</td>\n",
              "      <td>228.559998</td>\n",
              "      <td>227.559998</td>\n",
              "      <td>228.350006</td>\n",
              "      <td>2658500</td>\n",
              "      <td>0.0</td>\n",
              "      <td>0.0</td>\n",
              "      <td>0.0</td>\n",
              "    </tr>\n",
              "    <tr>\n",
              "      <th>2023-08-01 00:00:00-04:00</th>\n",
              "      <td>227.649994</td>\n",
              "      <td>228.000000</td>\n",
              "      <td>227.070007</td>\n",
              "      <td>227.729996</td>\n",
              "      <td>2809500</td>\n",
              "      <td>0.0</td>\n",
              "      <td>0.0</td>\n",
              "      <td>0.0</td>\n",
              "    </tr>\n",
              "    <tr>\n",
              "      <th>2023-08-02 00:00:00-04:00</th>\n",
              "      <td>225.990005</td>\n",
              "      <td>226.139999</td>\n",
              "      <td>224.070007</td>\n",
              "      <td>224.500000</td>\n",
              "      <td>4222640</td>\n",
              "      <td>0.0</td>\n",
              "      <td>0.0</td>\n",
              "      <td>0.0</td>\n",
              "    </tr>\n",
              "  </tbody>\n",
              "</table>\n",
              "<p>1257 rows × 8 columns</p>\n",
              "</div>\n",
              "      <button class=\"colab-df-convert\" onclick=\"convertToInteractive('df-7714712a-5510-4fc9-bf9b-42e763426327')\"\n",
              "              title=\"Convert this dataframe to an interactive table.\"\n",
              "              style=\"display:none;\">\n",
              "\n",
              "  <svg xmlns=\"http://www.w3.org/2000/svg\" height=\"24px\"viewBox=\"0 0 24 24\"\n",
              "       width=\"24px\">\n",
              "    <path d=\"M0 0h24v24H0V0z\" fill=\"none\"/>\n",
              "    <path d=\"M18.56 5.44l.94 2.06.94-2.06 2.06-.94-2.06-.94-.94-2.06-.94 2.06-2.06.94zm-11 1L8.5 8.5l.94-2.06 2.06-.94-2.06-.94L8.5 2.5l-.94 2.06-2.06.94zm10 10l.94 2.06.94-2.06 2.06-.94-2.06-.94-.94-2.06-.94 2.06-2.06.94z\"/><path d=\"M17.41 7.96l-1.37-1.37c-.4-.4-.92-.59-1.43-.59-.52 0-1.04.2-1.43.59L10.3 9.45l-7.72 7.72c-.78.78-.78 2.05 0 2.83L4 21.41c.39.39.9.59 1.41.59.51 0 1.02-.2 1.41-.59l7.78-7.78 2.81-2.81c.8-.78.8-2.07 0-2.86zM5.41 20L4 18.59l7.72-7.72 1.47 1.35L5.41 20z\"/>\n",
              "  </svg>\n",
              "      </button>\n",
              "\n",
              "\n",
              "\n",
              "    <div id=\"df-833ed076-1b33-4195-8f4a-0566f1d888c0\">\n",
              "      <button class=\"colab-df-quickchart\" onclick=\"quickchart('df-833ed076-1b33-4195-8f4a-0566f1d888c0')\"\n",
              "              title=\"Suggest charts.\"\n",
              "              style=\"display:none;\">\n",
              "\n",
              "<svg xmlns=\"http://www.w3.org/2000/svg\" height=\"24px\"viewBox=\"0 0 24 24\"\n",
              "     width=\"24px\">\n",
              "    <g>\n",
              "        <path d=\"M19 3H5c-1.1 0-2 .9-2 2v14c0 1.1.9 2 2 2h14c1.1 0 2-.9 2-2V5c0-1.1-.9-2-2-2zM9 17H7v-7h2v7zm4 0h-2V7h2v10zm4 0h-2v-4h2v4z\"/>\n",
              "    </g>\n",
              "</svg>\n",
              "      </button>\n",
              "    </div>\n",
              "\n",
              "<style>\n",
              "  .colab-df-quickchart {\n",
              "    background-color: #E8F0FE;\n",
              "    border: none;\n",
              "    border-radius: 50%;\n",
              "    cursor: pointer;\n",
              "    display: none;\n",
              "    fill: #1967D2;\n",
              "    height: 32px;\n",
              "    padding: 0 0 0 0;\n",
              "    width: 32px;\n",
              "  }\n",
              "\n",
              "  .colab-df-quickchart:hover {\n",
              "    background-color: #E2EBFA;\n",
              "    box-shadow: 0px 1px 2px rgba(60, 64, 67, 0.3), 0px 1px 3px 1px rgba(60, 64, 67, 0.15);\n",
              "    fill: #174EA6;\n",
              "  }\n",
              "\n",
              "  [theme=dark] .colab-df-quickchart {\n",
              "    background-color: #3B4455;\n",
              "    fill: #D2E3FC;\n",
              "  }\n",
              "\n",
              "  [theme=dark] .colab-df-quickchart:hover {\n",
              "    background-color: #434B5C;\n",
              "    box-shadow: 0px 1px 3px 1px rgba(0, 0, 0, 0.15);\n",
              "    filter: drop-shadow(0px 1px 2px rgba(0, 0, 0, 0.3));\n",
              "    fill: #FFFFFF;\n",
              "  }\n",
              "</style>\n",
              "\n",
              "    <script>\n",
              "      async function quickchart(key) {\n",
              "        const containerElement = document.querySelector('#' + key);\n",
              "        const charts = await google.colab.kernel.invokeFunction(\n",
              "            'suggestCharts', [key], {});\n",
              "      }\n",
              "    </script>\n",
              "\n",
              "      <script>\n",
              "\n",
              "function displayQuickchartButton(domScope) {\n",
              "  let quickchartButtonEl =\n",
              "    domScope.querySelector('#df-833ed076-1b33-4195-8f4a-0566f1d888c0 button.colab-df-quickchart');\n",
              "  quickchartButtonEl.style.display =\n",
              "    google.colab.kernel.accessAllowed ? 'block' : 'none';\n",
              "}\n",
              "\n",
              "        displayQuickchartButton(document);\n",
              "      </script>\n",
              "      <style>\n",
              "    .colab-df-container {\n",
              "      display:flex;\n",
              "      flex-wrap:wrap;\n",
              "      gap: 12px;\n",
              "    }\n",
              "\n",
              "    .colab-df-convert {\n",
              "      background-color: #E8F0FE;\n",
              "      border: none;\n",
              "      border-radius: 50%;\n",
              "      cursor: pointer;\n",
              "      display: none;\n",
              "      fill: #1967D2;\n",
              "      height: 32px;\n",
              "      padding: 0 0 0 0;\n",
              "      width: 32px;\n",
              "    }\n",
              "\n",
              "    .colab-df-convert:hover {\n",
              "      background-color: #E2EBFA;\n",
              "      box-shadow: 0px 1px 2px rgba(60, 64, 67, 0.3), 0px 1px 3px 1px rgba(60, 64, 67, 0.15);\n",
              "      fill: #174EA6;\n",
              "    }\n",
              "\n",
              "    [theme=dark] .colab-df-convert {\n",
              "      background-color: #3B4455;\n",
              "      fill: #D2E3FC;\n",
              "    }\n",
              "\n",
              "    [theme=dark] .colab-df-convert:hover {\n",
              "      background-color: #434B5C;\n",
              "      box-shadow: 0px 1px 3px 1px rgba(0, 0, 0, 0.15);\n",
              "      filter: drop-shadow(0px 1px 2px rgba(0, 0, 0, 0.3));\n",
              "      fill: #FFFFFF;\n",
              "    }\n",
              "  </style>\n",
              "\n",
              "      <script>\n",
              "        const buttonEl =\n",
              "          document.querySelector('#df-7714712a-5510-4fc9-bf9b-42e763426327 button.colab-df-convert');\n",
              "        buttonEl.style.display =\n",
              "          google.colab.kernel.accessAllowed ? 'block' : 'none';\n",
              "\n",
              "        async function convertToInteractive(key) {\n",
              "          const element = document.querySelector('#df-7714712a-5510-4fc9-bf9b-42e763426327');\n",
              "          const dataTable =\n",
              "            await google.colab.kernel.invokeFunction('convertToInteractive',\n",
              "                                                     [key], {});\n",
              "          if (!dataTable) return;\n",
              "\n",
              "          const docLinkHtml = 'Like what you see? Visit the ' +\n",
              "            '<a target=\"_blank\" href=https://colab.research.google.com/notebooks/data_table.ipynb>data table notebook</a>'\n",
              "            + ' to learn more about interactive tables.';\n",
              "          element.innerHTML = '';\n",
              "          dataTable['output_type'] = 'display_data';\n",
              "          await google.colab.output.renderOutput(dataTable, element);\n",
              "          const docLink = document.createElement('div');\n",
              "          docLink.innerHTML = docLinkHtml;\n",
              "          element.appendChild(docLink);\n",
              "        }\n",
              "      </script>\n",
              "    </div>\n",
              "  </div>\n"
            ]
          },
          "metadata": {},
          "execution_count": 3
        }
      ]
    },
    {
      "cell_type": "markdown",
      "source": [
        "Definitions of the length of lookback (in days) and the proportion of the data to be used as training (vs test/validation)."
      ],
      "metadata": {
        "id": "jsP86snq1saH"
      }
    },
    {
      "cell_type": "code",
      "source": [
        "# define crossvalidation split and number of days for training and\n",
        "lookback = 60\n",
        "train_size = int(np.round(len(close_symbol_arr) * .8))"
      ],
      "metadata": {
        "id": "EFtKh1ljfnDB"
      },
      "execution_count": null,
      "outputs": []
    },
    {
      "cell_type": "markdown",
      "source": [
        "The full data is limited to the training set and reshaped as needed for the neural network.  This means each close price has all days in the lookback period as predictors, which creates bigger data but (according to Tensorflow) is faster than trying to loop back across the days in each step."
      ],
      "metadata": {
        "id": "2m0IUVBv1v3W"
      }
    },
    {
      "cell_type": "code",
      "source": [
        "##\n",
        "# training set -  80% of the data\n",
        "##\n",
        "\n",
        "# normalize the data on scale of 0 to 1\n",
        "sc = MinMaxScaler(feature_range=(0, 1))\n",
        "close_symbol_arr_scaled = sc.fit_transform(close_symbol_arr)\n",
        "train_scaled = close_symbol_arr_scaled[0:train_size, :]\n",
        "\n",
        "# create data over the lookback window\n",
        "x_train_scaled = [] # empty list\n",
        "y_train_scaled = [] # empty list\n",
        "\n",
        "for i in range(lookback, len(train_scaled)):\n",
        "    x_train_scaled.append(train_scaled[i-lookback:i, 0])\n",
        "    y_train_scaled.append(train_scaled[i, 0])\n",
        "\n",
        "# reshape\n",
        "x_train_scaled = np.array(x_train_scaled)\n",
        "y_train_scaled = np.array(y_train_scaled)\n",
        "x_train_scaled = np.reshape(x_train_scaled, (x_train_scaled.shape[0], x_train_scaled.shape[1], 1))"
      ],
      "metadata": {
        "id": "Kr8OK6OprF6P"
      },
      "execution_count": null,
      "outputs": []
    },
    {
      "cell_type": "markdown",
      "source": [
        "Validation and test data are pooled together here because time is limited. If iterative experimentation with network architecture or hyperparameter tuning was on the agenda, validation and test sets should be separate (maybe a 80/10/10 split) with the validation versions specified in model.fit()."
      ],
      "metadata": {
        "id": "xFvmZyzi2b0I"
      }
    },
    {
      "cell_type": "code",
      "source": [
        "##\n",
        "# validation + test set - 20% of the data\n",
        "##\n",
        "\n",
        "test_scaled = close_symbol_arr_scaled[train_size - lookback:, :]\n",
        "\n",
        "x_test_scaled = []\n",
        "y_test = close_symbol_arr[train_size:, :]\n",
        "y_test_scaled = close_symbol_arr_scaled[train_size:, :]\n",
        "\n",
        "for i in range(lookback, len(test_scaled)):\n",
        "    x_test_scaled.append(test_scaled[i-lookback:i, 0])\n",
        "\n",
        "# reshape the data\n",
        "x_test_scaled = np.array(x_test_scaled)\n",
        "x_test_scaled = np.reshape(x_test_scaled,\n",
        "                           (x_test_scaled.shape[0],\n",
        "                            x_test_scaled.shape[1], 1))"
      ],
      "metadata": {
        "id": "gnTOOdC3smLK"
      },
      "execution_count": null,
      "outputs": []
    },
    {
      "cell_type": "markdown",
      "source": [
        "The network has two LSTM layers with 96 and 48 nodes, respectively, with a dense layer before the output layer.  Dropout seemed better at preventing overfitting than using kernel/recurrent regularizers.  The final model has 66,673 parameters.  Very little time was spent exploring archetecture/hyperparameter choices, there is likely plenty of room for improvement.  Don't forget to separate the test/validation sets before doing that."
      ],
      "metadata": {
        "id": "HMR-yXJT3SLA"
      }
    },
    {
      "cell_type": "code",
      "source": [
        "##\n",
        "# build the lstm network\n",
        "##\n",
        "\n",
        "model = Sequential()\n",
        "model.add(LSTM(units=96,\n",
        "               #kernel_regularizer = tf.keras.regularizers.L1(0.0005),\n",
        "               return_sequences=True,\n",
        "               input_shape=(x_train_scaled.shape[1],1)))\n",
        "model.add(Dropout(.5))\n",
        "model.add(LSTM(units=48,\n",
        "               return_sequences=False))\n",
        "model.add(Dropout(.5))\n",
        "model.add(Dense(24))\n",
        "model.add(Dense(1))\n",
        "\n",
        "model.summary()"
      ],
      "metadata": {
        "colab": {
          "base_uri": "https://localhost:8080/"
        },
        "id": "urpOccoHf7Eg",
        "outputId": "d49b3b0b-bc5a-4790-865a-094a02641452"
      },
      "execution_count": null,
      "outputs": [
        {
          "output_type": "stream",
          "name": "stdout",
          "text": [
            "Model: \"sequential\"\n",
            "_________________________________________________________________\n",
            " Layer (type)                Output Shape              Param #   \n",
            "=================================================================\n",
            " lstm (LSTM)                 (None, 60, 96)            37632     \n",
            "                                                                 \n",
            " dropout (Dropout)           (None, 60, 96)            0         \n",
            "                                                                 \n",
            " lstm_1 (LSTM)               (None, 48)                27840     \n",
            "                                                                 \n",
            " dropout_1 (Dropout)         (None, 48)                0         \n",
            "                                                                 \n",
            " dense (Dense)               (None, 24)                1176      \n",
            "                                                                 \n",
            " dense_1 (Dense)             (None, 1)                 25        \n",
            "                                                                 \n",
            "=================================================================\n",
            "Total params: 66,673\n",
            "Trainable params: 66,673\n",
            "Non-trainable params: 0\n",
            "_________________________________________________________________\n"
          ]
        }
      ]
    },
    {
      "cell_type": "markdown",
      "source": [
        "The loss function chosen was MSE and the optimizer was Adam. The learning rate was 0.0005, half the default, to train more slowly."
      ],
      "metadata": {
        "id": "MgI4B3Fs4CaK"
      }
    },
    {
      "cell_type": "code",
      "source": [
        "##\n",
        "# compile and fit the lstm\n",
        "##\n",
        "\n",
        "optimizer = tf.keras.optimizers.Adam(learning_rate=0.0005)\n",
        "model.compile(loss='mean_squared_error', optimizer=optimizer)\n",
        "\n",
        "model.fit(x_train_scaled, y_train_scaled,\n",
        "          epochs=50,\n",
        "          batch_size=16,\n",
        "          #validation_data = (x_val_scaled, y_val_scaled),\n",
        "          verbose=True)"
      ],
      "metadata": {
        "colab": {
          "base_uri": "https://localhost:8080/"
        },
        "id": "btAlSXPatPUy",
        "outputId": "2e548c83-daac-4a36-8025-2083e0ca5522"
      },
      "execution_count": null,
      "outputs": [
        {
          "output_type": "stream",
          "name": "stdout",
          "text": [
            "Epoch 1/50\n",
            "60/60 [==============================] - 17s 159ms/step - loss: 0.0024\n",
            "Epoch 2/50\n",
            "60/60 [==============================] - 10s 166ms/step - loss: 0.0025\n",
            "Epoch 3/50\n",
            "60/60 [==============================] - 8s 132ms/step - loss: 0.0023\n",
            "Epoch 4/50\n",
            "60/60 [==============================] - 6s 93ms/step - loss: 0.0024\n",
            "Epoch 5/50\n",
            "60/60 [==============================] - 4s 72ms/step - loss: 0.0025\n",
            "Epoch 6/50\n",
            "60/60 [==============================] - 5s 78ms/step - loss: 0.0023\n",
            "Epoch 7/50\n",
            "60/60 [==============================] - 6s 96ms/step - loss: 0.0023\n",
            "Epoch 8/50\n",
            "60/60 [==============================] - 4s 73ms/step - loss: 0.0025\n",
            "Epoch 9/50\n",
            "60/60 [==============================] - 5s 75ms/step - loss: 0.0023\n",
            "Epoch 10/50\n",
            "60/60 [==============================] - 5s 87ms/step - loss: 0.0024\n",
            "Epoch 11/50\n",
            "60/60 [==============================] - 4s 71ms/step - loss: 0.0023\n",
            "Epoch 12/50\n",
            "60/60 [==============================] - 5s 84ms/step - loss: 0.0025\n",
            "Epoch 13/50\n",
            "60/60 [==============================] - 5s 79ms/step - loss: 0.0024\n",
            "Epoch 14/50\n",
            "60/60 [==============================] - 4s 71ms/step - loss: 0.0027\n",
            "Epoch 15/50\n",
            "60/60 [==============================] - 5s 90ms/step - loss: 0.0023\n",
            "Epoch 16/50\n",
            "60/60 [==============================] - 4s 71ms/step - loss: 0.0023\n",
            "Epoch 17/50\n",
            "60/60 [==============================] - 4s 72ms/step - loss: 0.0023\n",
            "Epoch 18/50\n",
            "60/60 [==============================] - 6s 93ms/step - loss: 0.0026\n",
            "Epoch 19/50\n",
            "60/60 [==============================] - 4s 72ms/step - loss: 0.0024\n",
            "Epoch 20/50\n",
            "60/60 [==============================] - 4s 75ms/step - loss: 0.0023\n",
            "Epoch 21/50\n",
            "60/60 [==============================] - 6s 93ms/step - loss: 0.0023\n",
            "Epoch 22/50\n",
            "60/60 [==============================] - 4s 73ms/step - loss: 0.0025\n",
            "Epoch 23/50\n",
            "60/60 [==============================] - 6s 101ms/step - loss: 0.0025\n",
            "Epoch 24/50\n",
            "60/60 [==============================] - 5s 76ms/step - loss: 0.0025\n",
            "Epoch 25/50\n",
            "60/60 [==============================] - 4s 74ms/step - loss: 0.0023\n",
            "Epoch 26/50\n",
            "60/60 [==============================] - 6s 93ms/step - loss: 0.0024\n",
            "Epoch 27/50\n",
            "60/60 [==============================] - 5s 91ms/step - loss: 0.0022\n",
            "Epoch 28/50\n",
            "60/60 [==============================] - 5s 86ms/step - loss: 0.0027\n",
            "Epoch 29/50\n",
            "60/60 [==============================] - 5s 80ms/step - loss: 0.0029\n",
            "Epoch 30/50\n",
            "60/60 [==============================] - 4s 73ms/step - loss: 0.0023\n",
            "Epoch 31/50\n",
            "60/60 [==============================] - 6s 93ms/step - loss: 0.0024\n",
            "Epoch 32/50\n",
            "60/60 [==============================] - 4s 74ms/step - loss: 0.0023\n",
            "Epoch 33/50\n",
            "60/60 [==============================] - 4s 73ms/step - loss: 0.0022\n",
            "Epoch 34/50\n",
            "60/60 [==============================] - 6s 93ms/step - loss: 0.0026\n",
            "Epoch 35/50\n",
            "60/60 [==============================] - 4s 74ms/step - loss: 0.0021\n",
            "Epoch 36/50\n",
            "60/60 [==============================] - 5s 79ms/step - loss: 0.0023\n",
            "Epoch 37/50\n",
            "60/60 [==============================] - 5s 88ms/step - loss: 0.0022\n",
            "Epoch 38/50\n",
            "60/60 [==============================] - 4s 73ms/step - loss: 0.0023\n",
            "Epoch 39/50\n",
            "60/60 [==============================] - 5s 89ms/step - loss: 0.0024\n",
            "Epoch 40/50\n",
            "60/60 [==============================] - 5s 78ms/step - loss: 0.0023\n",
            "Epoch 41/50\n",
            "60/60 [==============================] - 4s 71ms/step - loss: 0.0023\n",
            "Epoch 42/50\n",
            "60/60 [==============================] - 6s 94ms/step - loss: 0.0023\n",
            "Epoch 43/50\n",
            "60/60 [==============================] - 4s 74ms/step - loss: 0.0025\n",
            "Epoch 44/50\n",
            "60/60 [==============================] - 4s 74ms/step - loss: 0.0022\n",
            "Epoch 45/50\n",
            "60/60 [==============================] - 6s 94ms/step - loss: 0.0026\n",
            "Epoch 46/50\n",
            "60/60 [==============================] - 4s 74ms/step - loss: 0.0025\n",
            "Epoch 47/50\n",
            "60/60 [==============================] - 5s 85ms/step - loss: 0.0023\n",
            "Epoch 48/50\n",
            "60/60 [==============================] - 5s 82ms/step - loss: 0.0026\n",
            "Epoch 49/50\n",
            "60/60 [==============================] - 5s 76ms/step - loss: 0.0021\n",
            "Epoch 50/50\n",
            "60/60 [==============================] - 6s 95ms/step - loss: 0.0021\n"
          ]
        },
        {
          "output_type": "execute_result",
          "data": {
            "text/plain": [
              "<keras.callbacks.History at 0x7a73eb955540>"
            ]
          },
          "metadata": {},
          "execution_count": 19
        }
      ]
    },
    {
      "cell_type": "code",
      "source": [
        "##\n",
        "# make predictions based on the test set\n",
        "##\n",
        "\n",
        "preds = model.predict(x_test_scaled)\n",
        "preds = sc.inverse_transform(preds)\n",
        "\n",
        "# rmse\n",
        "rmse = np.sqrt(np.mean(((preds - y_test)**2)))\n",
        "rmse"
      ],
      "metadata": {
        "colab": {
          "base_uri": "https://localhost:8080/"
        },
        "id": "0U2lqoyknOoe",
        "outputId": "2238ec62-5f05-4b6a-a279-7760f51c6819"
      },
      "execution_count": null,
      "outputs": [
        {
          "output_type": "stream",
          "name": "stdout",
          "text": [
            "8/8 [==============================] - 1s 32ms/step\n"
          ]
        },
        {
          "output_type": "execute_result",
          "data": {
            "text/plain": [
              "2.838563111944769"
            ]
          },
          "metadata": {},
          "execution_count": 20
        }
      ]
    },
    {
      "cell_type": "markdown",
      "source": [
        "The plot below shows the predictions for the test set overlaid on the actual values. The results look promising, but we haven't tested this against any kind of benchmark. For exanple how does this model do compared to simply predicting no change in previous day close price? It would be interestig to compare with the standard time series models as well (e.g. ARIMA, etc)."
      ],
      "metadata": {
        "id": "bS1tjTVs5lLZ"
      }
    },
    {
      "cell_type": "code",
      "source": [
        "##\n",
        "# plot the actual values vs predictions\n",
        "##\n",
        "\n",
        "train = close_symbol[:train_size]\n",
        "valid = close_symbol[train_size:]\n",
        "valid['Predictions'] = preds\n",
        "\n",
        "plt.figure(figsize=(16,8))\n",
        "plt.title('Model')\n",
        "plt.xlabel('Date', fontsize=18, fontweight='bold')\n",
        "plt.ylabel('Close Price ($)', fontsize=18, fontweight='bold')\n",
        "plt.plot(train['Close'], color='green')\n",
        "plt.plot(valid[['Close', 'Predictions']])\n",
        "plt.legend(['Train', 'Val', 'Predictions'], loc='lower right')\n",
        "plt.show()\n"
      ],
      "metadata": {
        "colab": {
          "base_uri": "https://localhost:8080/",
          "height": 832
        },
        "id": "VJ971jm4hthy",
        "outputId": "08b475ec-e0a8-4c4e-f43c-a853a494db06"
      },
      "execution_count": null,
      "outputs": [
        {
          "output_type": "stream",
          "name": "stderr",
          "text": [
            "<ipython-input-21-aa31d6ac7769>:7: SettingWithCopyWarning: \n",
            "A value is trying to be set on a copy of a slice from a DataFrame.\n",
            "Try using .loc[row_indexer,col_indexer] = value instead\n",
            "\n",
            "See the caveats in the documentation: https://pandas.pydata.org/pandas-docs/stable/user_guide/indexing.html#returning-a-view-versus-a-copy\n",
            "  valid['Predictions'] = preds\n"
          ]
        },
        {
          "output_type": "display_data",
          "data": {
            "text/plain": [
              "<Figure size 1600x800 with 1 Axes>"
            ],
            "image/png": "[encoded data removed]"
          },
          "metadata": {}
        }
      ]
    },
    {
      "cell_type": "markdown",
      "source": [
        "Finally, if the model was going to be used for trading decisions (not recommended!) it needs to predict tomorow's (currently unobserverd) closing price. It predicts the closing price for 8/22/23 to be 225.74. In reality, makets closed down sharply overall with VTI falling to 224.50."
      ],
      "metadata": {
        "id": "9U0e29GGJzUH"
      }
    },
    {
      "cell_type": "code",
      "source": [
        "\n",
        "##\n",
        "# predict for next day (currently unobserved)\n",
        "#\n",
        "\n",
        "tmrw_x_scaled = []\n",
        "tmrw_x_scaled.append(close_symbol_arr_scaled[len(close_symbol_arr_scaled)-lookback:len(close_symbol_arr_scaled), 0])\n",
        "tmrw_x_scaled = np.array(tmrw_x_scaled)\n",
        "\n",
        "tmrw_x_scaled = np.reshape(tmrw_x_scaled,\n",
        "                             (tmrw_x_scaled.shape[0],\n",
        "                             tmrw_x_scaled.shape[1], 1))\n",
        "\n",
        "pred_tmrw = model.predict(tmrw_x_scaled)\n",
        "pred_tmrw = sc.inverse_transform(pred_tmrw)\n",
        "\n",
        "print(pred_tmrw)\n"
      ],
      "metadata": {
        "colab": {
          "base_uri": "https://localhost:8080/"
        },
        "id": "zqD2jFgn_6DO",
        "outputId": "bcb86425-7182-46fe-cd02-d1eae9d9b82b"
      },
      "execution_count": null,
      "outputs": [
        {
          "output_type": "stream",
          "name": "stdout",
          "text": [
            "1/1 [==============================] - 0s 31ms/step\n",
            "[[225.7346]]\n"
          ]
        }
      ]
    },
    {
      "cell_type": "code",
      "source": [
        "!pip install nbconvert\n"
      ],
      "metadata": {
        "id": "rLNATZF2NFt2"
      },
      "execution_count": null,
      "outputs": []
    }
  ]
}